{
  "nbformat": 4,
  "nbformat_minor": 0,
  "metadata": {
    "colab": {
      "provenance": [],
      "include_colab_link": true
    },
    "kernelspec": {
      "name": "python3",
      "display_name": "Python 3"
    },
    "language_info": {
      "name": "python"
    }
  },
  "cells": [
    {
      "cell_type": "markdown",
      "metadata": {
        "id": "view-in-github",
        "colab_type": "text"
      },
      "source": [
        "<a href=\"https://colab.research.google.com/github/arya23-dev/ML/blob/main/1BM22CS055_Lab_7_SVM.ipynb\" target=\"_parent\"><img src=\"https://colab.research.google.com/assets/colab-badge.svg\" alt=\"Open In Colab\"/></a>"
      ]
    },
    {
      "cell_type": "code",
      "execution_count": 3,
      "metadata": {
        "colab": {
          "base_uri": "https://localhost:8080/"
        },
        "id": "Eg25rjHPjQ0P",
        "outputId": "ea56b4bb-5830-4ffd-8391-bfff599905f4"
      },
      "outputs": [
        {
          "output_type": "stream",
          "name": "stdout",
          "text": [
            "Linear Kernel Accuracy: 1.0\n",
            "Confusion Matrix:\n",
            " [[10  0  0]\n",
            " [ 0  9  0]\n",
            " [ 0  0 11]]\n",
            "\n",
            "RBF Kernel Accuracy: 1.0\n",
            "Confusion Matrix:\n",
            " [[10  0  0]\n",
            " [ 0  9  0]\n",
            " [ 0  0 11]]\n"
          ]
        }
      ],
      "source": [
        "import pandas as pd\n",
        "from sklearn.model_selection import train_test_split\n",
        "from sklearn.preprocessing import LabelEncoder\n",
        "from sklearn.svm import SVC\n",
        "from sklearn.metrics import accuracy_score, confusion_matrix\n",
        "\n",
        "# Load IRIS dataset\n",
        "iris_df = pd.read_csv(\"iris.csv\")\n",
        "\n",
        "# Prepare features and labels\n",
        "X_iris = iris_df.drop(\"species\", axis=1)\n",
        "y_iris = iris_df[\"species\"]\n",
        "\n",
        "# Encode target labels\n",
        "label_encoder_iris = LabelEncoder()\n",
        "y_iris_encoded = label_encoder_iris.fit_transform(y_iris)\n",
        "\n",
        "# Split into training and testing data\n",
        "X_train_iris, X_test_iris, y_train_iris, y_test_iris = train_test_split(\n",
        "    X_iris, y_iris_encoded, test_size=0.2, random_state=42)\n",
        "\n",
        "# Train and evaluate Linear SVM\n",
        "svm_linear = SVC(kernel='linear')\n",
        "svm_linear.fit(X_train_iris, y_train_iris)\n",
        "y_pred_linear = svm_linear.predict(X_test_iris)\n",
        "\n",
        "print(\"Linear Kernel Accuracy:\", accuracy_score(y_test_iris, y_pred_linear))\n",
        "print(\"Confusion Matrix:\\n\", confusion_matrix(y_test_iris, y_pred_linear))\n",
        "\n",
        "# Train and evaluate RBF SVM\n",
        "svm_rbf = SVC(kernel='rbf')\n",
        "svm_rbf.fit(X_train_iris, y_train_iris)\n",
        "y_pred_rbf = svm_rbf.predict(X_test_iris)\n",
        "\n",
        "print(\"\\nRBF Kernel Accuracy:\", accuracy_score(y_test_iris, y_pred_rbf))\n",
        "print(\"Confusion Matrix:\\n\", confusion_matrix(y_test_iris, y_pred_rbf))\n"
      ]
    },
    {
      "cell_type": "code",
      "source": [
        "import pandas as pd\n",
        "from sklearn.model_selection import train_test_split\n",
        "from sklearn.preprocessing import LabelEncoder, StandardScaler, label_binarize\n",
        "from sklearn.svm import SVC\n",
        "from sklearn.multiclass import OneVsRestClassifier\n",
        "from sklearn.metrics import accuracy_score, confusion_matrix, roc_curve, roc_auc_score\n",
        "import matplotlib.pyplot as plt\n",
        "\n",
        "# Load dataset\n",
        "df = pd.read_csv(\"letter-recognition.csv\")\n",
        "\n",
        "# Assume first column is label, rest are features\n",
        "X = df.iloc[:, 1:]\n",
        "y = df.iloc[:, 0]\n",
        "\n",
        "# Encode labels and binarize for ROC\n",
        "le = LabelEncoder()\n",
        "y_encoded = le.fit_transform(y)\n",
        "y_binarized = label_binarize(y_encoded, classes=range(len(le.classes_)))\n",
        "\n",
        "# Train-test split\n",
        "X_train, X_test, y_train, y_test, y_train_bin, y_test_bin = train_test_split(\n",
        "    X, y_encoded, y_binarized, test_size=0.2, random_state=42)\n",
        "\n",
        "# Standardize features\n",
        "scaler = StandardScaler()\n",
        "X_train_scaled = scaler.fit_transform(X_train)\n",
        "X_test_scaled = scaler.transform(X_test)\n",
        "\n",
        "# SVM with RBF kernel in One-vs-Rest strategy\n",
        "model = OneVsRestClassifier(SVC(kernel='rbf', probability=True))\n",
        "model.fit(X_train_scaled, y_train_bin)\n",
        "\n",
        "# Predictions and probabilities\n",
        "y_pred_bin = model.predict(X_test_scaled)\n",
        "y_pred_proba = model.predict_proba(X_test_scaled)\n",
        "\n",
        "# Evaluation\n",
        "y_pred_labels = y_pred_bin.argmax(axis=1)\n",
        "y_test_labels = y_test_bin.argmax(axis=1)\n",
        "\n",
        "print(\"Accuracy:\", accuracy_score(y_test_labels, y_pred_labels))\n",
        "print(\"Confusion Matrix:\\n\", confusion_matrix(y_test_labels, y_pred_labels))\n",
        "print(\"AUC Score:\", roc_auc_score(y_test_bin, y_pred_proba, multi_class='ovr'))\n",
        "\n",
        "# Plot ROC curves for a few classes (to keep plot readable)\n",
        "plt.figure(figsize=(10, 7))\n",
        "for i in range(min(5, y_test_bin.shape[1])):  # Plot only first 5 classes\n",
        "    fpr, tpr, _ = roc_curve(y_test_bin[:, i], y_pred_proba[:, i])\n",
        "    plt.plot(fpr, tpr, label=f\"Class {le.inverse_transform([i])[0]}\")\n",
        "\n",
        "plt.plot([0, 1], [0, 1], 'k--')\n",
        "plt.title('Multiclass ROC Curve - Letter Recognition')\n",
        "plt.xlabel('False Positive Rate')\n",
        "plt.ylabel('True Positive Rate')\n",
        "plt.legend()\n",
        "plt.grid(True)\n",
        "plt.tight_layout()\n",
        "plt.show()\n"
      ],
      "metadata": {
        "id": "kMLwzyiukelS"
      },
      "execution_count": null,
      "outputs": []
    },
    {
      "cell_type": "code",
      "source": [],
      "metadata": {
        "id": "fj67KORYloX4"
      },
      "execution_count": null,
      "outputs": []
    }
  ]
}